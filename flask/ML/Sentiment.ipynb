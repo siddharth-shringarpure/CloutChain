{
 "cells": [
  {
   "cell_type": "code",
   "execution_count": 1,
   "id": "fb8436ed-4256-466c-9d60-f28f3456621c",
   "metadata": {},
   "outputs": [],
   "source": [
    "import pandas as pd\n",
    "import numpy as np"
   ]
  },
  {
   "cell_type": "code",
   "execution_count": 9,
   "id": "ee1f2cfa-6274-4777-9fca-828fb299e2e4",
   "metadata": {},
   "outputs": [],
   "source": [
    "df_initial = pd.read_csv('Coin.csv')\n",
    "df_new = pd.read_csv('Coin_new.csv')"
   ]
  },
  {
   "cell_type": "code",
   "execution_count": 10,
   "id": "ac9321a0-050d-40c8-aec1-35c39b8c2568",
   "metadata": {},
   "outputs": [],
   "source": [
    "# Finding the intersection based on 'id'\n",
    "intersection = df_initial.merge(df_new, on='address', how='inner')"
   ]
  },
  {
   "cell_type": "code",
   "execution_count": 6,
   "id": "24feb889-a55d-43ab-9f3c-ff84bbe5478f",
   "metadata": {},
   "outputs": [
    {
     "data": {
      "text/plain": [
       "107"
      ]
     },
     "execution_count": 6,
     "metadata": {},
     "output_type": "execute_result"
    }
   ],
   "source": [
    "len(intersection)"
   ]
  },
  {
   "cell_type": "code",
   "execution_count": 17,
   "id": "b96a9aab-9a3b-486e-9ee7-3fd1fbee88b9",
   "metadata": {},
   "outputs": [
    {
     "name": "stderr",
     "output_type": "stream",
     "text": [
      "Device set to use cpu\n"
     ]
    }
   ],
   "source": [
    "# Use a pipeline as a high-level helper\n",
    "from transformers import pipeline\n",
    "\n",
    "pipe = pipeline(\"text-classification\", model=\"cardiffnlp/twitter-roberta-base-sentiment\", device = \"cpu\", truncation = True, max_length = 512)"
   ]
  },
  {
   "cell_type": "code",
   "execution_count": 15,
   "id": "871c9f48-2d05-413a-be86-e6cf9bcd4b57",
   "metadata": {},
   "outputs": [
    {
     "data": {
      "text/plain": [
       "[{'label': 'LABEL_1', 'score': 0.7566623091697693}]"
      ]
     },
     "execution_count": 15,
     "metadata": {},
     "output_type": "execute_result"
    }
   ],
   "source": [
    "pipe('bajingan tolol')"
   ]
  },
  {
   "cell_type": "code",
   "execution_count": 22,
   "id": "d8e1cfae-5cf7-4038-9615-a3dffe9c7a3a",
   "metadata": {},
   "outputs": [],
   "source": [
    "df_initial['title_sentiment'] = df_initial['name'].apply(lambda x:  [] if not x else pipe(str(x)))"
   ]
  },
  {
   "cell_type": "code",
   "execution_count": 25,
   "id": "3130b2fe-893a-4434-91bf-0182046c8156",
   "metadata": {},
   "outputs": [],
   "source": [
    "df_comment = pd.read_csv('Comment.csv')"
   ]
  },
  {
   "cell_type": "code",
   "execution_count": 28,
   "id": "d460f7ce-d35d-4f40-bacc-3df37d8fe4bc",
   "metadata": {},
   "outputs": [],
   "source": [
    "df_comment['comment_sentiment'] = df_comment['comment'].apply(\n",
    "    lambda x: [] if not x else pipe(str(x), truncation=True, max_length=512)\n",
    ")"
   ]
  },
  {
   "cell_type": "code",
   "execution_count": 20,
   "id": "018dd432-9a77-4ee6-bae9-4580dc69b5a6",
   "metadata": {},
   "outputs": [],
   "source": [
    "import pickle\n",
    "with open('sentiment_pipeline.pk', 'wb') as f:\n",
    "    pickle.dump(pipe, f)"
   ]
  },
  {
   "cell_type": "code",
   "execution_count": null,
   "id": "e81a29b0-a539-4c80-9f72-4a7acdcd5fe6",
   "metadata": {},
   "outputs": [],
   "source": []
  }
 ],
 "metadata": {
  "kernelspec": {
   "display_name": "Python 3 (ipykernel)",
   "language": "python",
   "name": "python3"
  },
  "language_info": {
   "codemirror_mode": {
    "name": "ipython",
    "version": 3
   },
   "file_extension": ".py",
   "mimetype": "text/x-python",
   "name": "python",
   "nbconvert_exporter": "python",
   "pygments_lexer": "ipython3",
   "version": "3.10.5"
  }
 },
 "nbformat": 4,
 "nbformat_minor": 5
}
