{
 "cells": [
  {
   "cell_type": "code",
   "execution_count": 4,
   "id": "3542364c-025b-403d-a5a5-6b4e6ce010de",
   "metadata": {},
   "outputs": [
    {
     "name": "stderr",
     "output_type": "stream",
     "text": [
      "Using CPU. Note: This module is much faster with a GPU.\n"
     ]
    }
   ],
   "source": [
    "import multiprocessing\n",
    "import easyocr\n",
    "import requests\n",
    "from io import BytesIO\n",
    "from PIL import Image\n",
    "import torch\n",
    "torch.backends.mps.is_available = lambda: False  # Disable MPS explicitly\n",
    "multiprocessing.set_start_method(\"spawn\", force=True)\n",
    "reader = easyocr.Reader(['en'], gpu = False)\n",
    "def ocr_img_from_url(img_url):\n",
    "    try:\n",
    "        response = requests.get(img_url, stream=True)\n",
    "        if response.status_code != 200:\n",
    "            print(f\"Failed to fetch: {img_url} (Status: {response.status_code})\")\n",
    "            return \"\"\n",
    "\n",
    "        # Read image as bytes\n",
    "        img_bytes = response.content\n",
    "        \n",
    "        # Use EasyOCR directly with bytes\n",
    "        result = reader.readtext(img_bytes)\n",
    "\n",
    "        # Extract text with high confidence\n",
    "        text_result = \" \".join(text for _, text, prob in result if prob > 0.5)\n",
    "\n",
    "        return text_result if text_result else \"(No text found)\"\n",
    "\n",
    "    except Exception as e:\n",
    "        print(f\"Error processing {img_url}: {e}\")\n",
    "        return \"\""
   ]
  },
  {
   "cell_type": "code",
   "execution_count": 5,
   "id": "0699cc25-da5a-46fa-9ab1-296873a2f5ce",
   "metadata": {},
   "outputs": [
    {
     "name": "stdout",
     "output_type": "stream",
     "text": [
      "cpu\n",
      "False\n",
      "False\n"
     ]
    }
   ],
   "source": [
    "print(torch.device(\"cpu\"))\n",
    "print(torch.cuda.is_available())  # Should be False\n",
    "print(torch.backends.mps.is_available())  # Should be False"
   ]
  },
  {
   "cell_type": "code",
   "execution_count": 2,
   "id": "c44ca14f-28bd-4f58-a324-b41a82e9281c",
   "metadata": {},
   "outputs": [],
   "source": [
    "import numpy as np\n",
    "import pandas as pd\n",
    "df = pd.read_csv('Coin.csv')\n",
    "df = df[['id', 'address', 'name', 'symbol', 'description', 'mediumImageUrl', 'mimeType']]\n",
    "df = df.dropna(subset='mediumImageUrl')"
   ]
  },
  {
   "cell_type": "code",
   "execution_count": null,
   "id": "2a511916-1c85-45df-8c60-ffb6d1f14ba1",
   "metadata": {},
   "outputs": [],
   "source": [
    "df['img_text'] = df['mediumImageUrl'].apply(lambda x: ocr_img_from_url(x))"
   ]
  },
  {
   "cell_type": "code",
   "execution_count": 11,
   "id": "a2597495-55fd-491c-acde-6a36afb7fa89",
   "metadata": {},
   "outputs": [
    {
     "ename": "AttributeError",
     "evalue": "Can't pickle local object '_add_module_to_qconfig_obs_ctr.<locals>.get_factory_kwargs_based_on_module_device'",
     "output_type": "error",
     "traceback": [
      "\u001b[0;31m---------------------------------------------------------------------------\u001b[0m",
      "\u001b[0;31mAttributeError\u001b[0m                            Traceback (most recent call last)",
      "Cell \u001b[0;32mIn[11], line 3\u001b[0m\n\u001b[1;32m      1\u001b[0m \u001b[38;5;28;01mimport\u001b[39;00m\u001b[38;5;250m \u001b[39m\u001b[38;5;21;01mpickle\u001b[39;00m\n\u001b[1;32m      2\u001b[0m \u001b[38;5;28;01mwith\u001b[39;00m \u001b[38;5;28mopen\u001b[39m (\u001b[38;5;124m'\u001b[39m\u001b[38;5;124mocr.pk\u001b[39m\u001b[38;5;124m'\u001b[39m, \u001b[38;5;124m'\u001b[39m\u001b[38;5;124mwb\u001b[39m\u001b[38;5;124m'\u001b[39m) \u001b[38;5;28;01mas\u001b[39;00m f:\n\u001b[0;32m----> 3\u001b[0m     \u001b[43mpickle\u001b[49m\u001b[38;5;241;43m.\u001b[39;49m\u001b[43mdump\u001b[49m\u001b[43m(\u001b[49m\u001b[43mreader\u001b[49m\u001b[43m,\u001b[49m\u001b[43m \u001b[49m\u001b[43mf\u001b[49m\u001b[43m)\u001b[49m\n",
      "\u001b[0;31mAttributeError\u001b[0m: Can't pickle local object '_add_module_to_qconfig_obs_ctr.<locals>.get_factory_kwargs_based_on_module_device'"
     ]
    }
   ],
   "source": [
    "import pickle\n",
    "with open ('ocr.pk', 'wb') as f:\n",
    "    pickle.dump(reader, f)"
   ]
  },
  {
   "cell_type": "code",
   "execution_count": 12,
   "id": "28b8d800-de22-47b6-b2aa-c9359120c26a",
   "metadata": {},
   "outputs": [
    {
     "data": {
      "text/plain": [
       "'1.7.2'"
      ]
     },
     "execution_count": 12,
     "metadata": {},
     "output_type": "execute_result"
    }
   ],
   "source": [
    "easyocr.__version__"
   ]
  },
  {
   "cell_type": "code",
   "execution_count": null,
   "id": "4ae95f93-413c-446a-940a-5e3421cc956a",
   "metadata": {},
   "outputs": [],
   "source": []
  }
 ],
 "metadata": {
  "kernelspec": {
   "display_name": "Python 3 (ipykernel)",
   "language": "python",
   "name": "python3"
  },
  "language_info": {
   "codemirror_mode": {
    "name": "ipython",
    "version": 3
   },
   "file_extension": ".py",
   "mimetype": "text/x-python",
   "name": "python",
   "nbconvert_exporter": "python",
   "pygments_lexer": "ipython3",
   "version": "3.10.5"
  }
 },
 "nbformat": 4,
 "nbformat_minor": 5
}
